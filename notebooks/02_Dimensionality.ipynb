{
    "cells": [
        {
            "cell_type": "markdown",
            "metadata": {},
            "source": [
                "# Dimensionality of the inputs to the filter"
            ]
        },
        {
            "cell_type": "markdown",
            "metadata": {},
            "source": [
                "One of the main strengths of PyMC3 is its dependence on Theano. Theano allows to compute arithmetic operations on arbitrary tensors. This might not sound very impressive, but in the process:\n",
                "\n",
                "* It can apply the chain rule to calculate the gradient of a scalar function on the unknown parameters\n",
                "* Elementwise operations on tensors can be extended to any number of dimensions\n",
                "* Smart optimizations on expressions are applied before compiling, reducing the computing time\n",
                "\n",
                "Here, we will apply the Kalman filter to scalar observations and/or scalar state spaces. This will result in a noticeable speed improvement with respect to the general vector-vector case.\n",
                "\n",
                "We will use the same example as in the previous notebook:"
            ]
        },
        {
            "cell_type": "code",
            "execution_count": 1,
            "metadata": {},
            "outputs": [
                {
                    "data": {
                        "image/png": "[encoded data removed]",
                        "text/plain": [
                            "<matplotlib.figure.Figure at 0x7f76b47fee10>"
                        ]
                    },
                    "metadata": {},
                    "output_type": "display_data"
                }
            ],
            "source": [
                "import numpy              as np\n",
                "import theano\n",
                "import theano.tensor      as tt\n",
                "import kalman\n",
                "\n",
                "import matplotlib.pyplot  as plt\n",
                "import seaborn            as sns\n",
                "sns.set_style(\"whitegrid\")\n",
                "\n",
                "%matplotlib inline\n",
                "\n",
                "# True values\n",
                "T = 500                 # Time steps\n",
                "sigma2_eps0 = 3         # Variance of the observation noise\n",
                "sigma2_eta0 = 10        # Variance in the update of the mean\n",
                "\n",
                "# Simulate data\n",
                "np.random.seed(12345)\n",
                "eps = np.random.normal(scale=sigma2_eps0**0.5, size=T)\n",
                "eta = np.random.normal(scale=sigma2_eta0**0.5, size=T)\n",
                "mu = np.cumsum(eta)\n",
                "y = mu + eps\n",
                "\n",
                "# Plot the time series\n",
                "fig, ax = plt.subplots(figsize=(13,2))\n",
                "ax.fill_between(np.arange(T), 0, y, facecolor=(0.7,0.7,1), edgecolor=(0,0,1))\n",
                "ax.set(xlabel='$T$', title='Simulated series');"
            ]
        },
        {
            "cell_type": "markdown",
            "metadata": {},
            "source": [
                "#### Vectorial observation + vectorial state"
            ]
        },
        {
            "cell_type": "code",
            "execution_count": 2,
            "metadata": {},
            "outputs": [
                {
                    "name": "stdout",
                    "output_type": "stream",
                    "text": [
                        "11.9 ms ± 256 µs per loop (mean ± std. dev. of 7 runs, 100 loops each)\n",
                        "Log-likelihood: -1369.7346722999791\n"
                    ]
                }
            ],
            "source": [
                "# Measurement equation\n",
                "Z, d, H = tt.dmatrix(name='Z'), tt.dvector(name='d'), tt.dmatrix(name='H')\n",
                "# Transition equation\n",
                "T, c, R, Q = tt.dmatrix(name='T'), tt.dvector(name='c'), \\\n",
                "             tt.dmatrix(name='R'), tt.dmatrix(name='Q')\n",
                "# Tensors for the initial state mean and uncertainty\n",
                "a0, P0 = tt.dvector(name='a0'), tt.dmatrix(name='P0')\n",
                "\n",
                "# Values for the actual calculation\n",
                "args = dict(Z = np.array([[1.]]), d = np.array([0.]), H = np.array([[3.]]),\n",
                "            T = np.array([[1.]]), c = np.array([0.]), R = np.array([[1.]]),\n",
                "            Q = np.array([[10.]]),\n",
                "            a0 = np.array([0.]), P0 = np.array([[1e6]]))\n",
                "\n",
                "# Create function to calculate log-likelihood\n",
                "kalmanTheano = kalman.KalmanTheano(Z, d, H, T, c, R, Q, a0, P0)\n",
                "(_,_,lliks),_ = kalmanTheano.filter(y[:,None])\n",
                "f = theano.function([Z, d, H, T, c, R, Q, a0, P0], lliks[1:].sum())\n",
                "\n",
                "# Evaluate\n",
                "%timeit f(**args)\n",
                "\n",
                "print('Log-likelihood:', f(**args))"
            ]
        },
        {
            "cell_type": "markdown",
            "metadata": {},
            "source": [
                "#### Scalar observation + vectorial state"
            ]
        },
        {
            "cell_type": "code",
            "execution_count": 3,
            "metadata": {},
            "outputs": [
                {
                    "name": "stdout",
                    "output_type": "stream",
                    "text": [
                        "11.8 ms ± 224 µs per loop (mean ± std. dev. of 7 runs, 100 loops each)\n",
                        "Log-likelihood: -1369.7346722999757\n"
                    ]
                }
            ],
            "source": [
                "# Measurement equation\n",
                "Z, d, H = tt.dvector(name='Z'), tt.dscalar(name='d'), tt.dscalar(name='H')\n",
                "# Transition equation\n",
                "T, c, R, Q = tt.dmatrix(name='T'), tt.dvector(name='c'), \\\n",
                "             tt.dmatrix(name='R'), tt.dmatrix(name='Q')\n",
                "# Tensors for the initial state mean and uncertainty\n",
                "a0, P0 = tt.dvector(name='a0'), tt.dmatrix(name='P0')\n",
                "\n",
                "# Values for the actual calculation\n",
                "args = dict(Z = np.array([1.]), d = np.array(0.), H = np.array(3.),\n",
                "            T = np.array([[1.]]), c = np.array([0.]), R = np.array([[1.]]),\n",
                "            Q = np.array([[10.]]),\n",
                "            a0 = np.array([0.]), P0 = np.array([[1e6]]))\n",
                "\n",
                "# Create function to calculate log-likelihood\n",
                "kalmanTheano = kalman.KalmanTheano(Z, d, H, T, c, R, Q, a0, P0)\n",
                "(_,_,lliks),_ = kalmanTheano.filter(y)\n",
                "f = theano.function([Z, d, H, T, c, R, Q, a0, P0], lliks[1:].sum())\n",
                "\n",
                "# Evaluate\n",
                "%timeit f(**args)\n",
                "\n",
                "print('Log-likelihood:', f(**args))"
            ]
        },
        {
            "cell_type": "markdown",
            "metadata": {},
            "source": [
                "#### Scalar observation + scalar state"
            ]
        },
        {
            "cell_type": "code",
            "execution_count": 4,
            "metadata": {},
            "outputs": [
                {
                    "name": "stdout",
                    "output_type": "stream",
                    "text": [
                        "4.93 ms ± 257 µs per loop (mean ± std. dev. of 7 runs, 100 loops each)\n",
                        "Log-likelihood: -1369.7346722999757\n"
                    ]
                }
            ],
            "source": [
                "# Measurement equation\n",
                "Z, d, H = tt.dscalar(name='Z'), tt.dscalar(name='d'), tt.dscalar(name='H')\n",
                "# Transition equation\n",
                "T, c, R, Q = tt.dscalar(name='T'), tt.dscalar(name='c'), \\\n",
                "             tt.dscalar(name='R'), tt.dscalar(name='Q')\n",
                "# Tensors for the initial state mean and uncertainty\n",
                "a0, P0 = tt.dscalar(name='a0'), tt.dscalar(name='P0')\n",
                "\n",
                "# Values for the actual calculation\n",
                "args = dict(Z = np.array(1.), d = np.array(0.), H = np.array(3.),\n",
                "            T = np.array(1.), c = np.array(0.), R = np.array(1.),\n",
                "            Q = np.array(10.),\n",
                "            a0 = np.array(0.), P0 = np.array(1e6))\n",
                "\n",
                "# Create function to calculate log-likelihood\n",
                "kalmanTheano = kalman.KalmanTheano(Z, d, H, T, c, R, Q, a0, P0)\n",
                "(_,_,lliks),_ = kalmanTheano.filter(y)\n",
                "f = theano.function([Z, d, H, T, c, R, Q, a0, P0], lliks[1:].sum())\n",
                "\n",
                "# Evaluate\n",
                "%timeit f(**args)\n",
                "\n",
                "print('Log-likelihood:', f(**args))"
            ]
        },
        {
            "cell_type": "markdown",
            "metadata": {},
            "source": [
                "The improvement in this case is clear. By profiling the operation, it becomes aparent that, for scalar inputs, the algebraic operations do not use BLAS routines, but just normal products."
            ]
        }
    ],
    "metadata": {
        "kernelspec": {
            "display_name": "Python 3",
            "language": "python",
            "name": "python3"
        },
        "language_info": {
            "codemirror_mode": {
                "name": "ipython",
                "version": 3
            },
            "file_extension": ".py",
            "mimetype": "text/x-python",
            "name": "python",
            "nbconvert_exporter": "python",
            "pygments_lexer": "ipython3",
            "version": "3.6.2"
        }
    },
    "nbformat": 4,
    "nbformat_minor": 2
}
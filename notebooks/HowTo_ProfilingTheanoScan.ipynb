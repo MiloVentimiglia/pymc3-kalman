{
    "cells": [
        {
            "cell_type": "markdown",
            "metadata": {},
            "source": [
                "Let's admit it, bayesian modeling on time series is slow. In pymc3, it typically implies using theano `scan` operation. Here, we will show how to profile one step of the kalman filter, as well as the scan operation over the time series.\n",
                "\n",
                "First, load the required packages:"
            ]
        },
        {
            "cell_type": "code",
            "execution_count": 1,
            "metadata": {},
            "outputs": [],
            "source": [
                "import numpy              as np\n",
                "import theano\n",
                "import theano.tensor      as tt\n",
                "\n",
                "import kalman"
            ]
        },
        {
            "cell_type": "markdown",
            "metadata": {},
            "source": [
                "We will use the same data as in the `01_RandomWalkPlusObservation` notebook."
            ]
        },
        {
            "cell_type": "code",
            "execution_count": 2,
            "metadata": {},
            "outputs": [],
            "source": [
                "# True values\n",
                "T = 500                 # Time steps\n",
                "sigma2_eps0 = 3         # Variance of the observation noise\n",
                "sigma2_eta0 = 10        # Variance in the update of the mean\n",
                "\n",
                "# Simulate data\n",
                "np.random.seed(12345)\n",
                "eps = np.random.normal(scale=sigma2_eps0**0.5, size=T)\n",
                "eta = np.random.normal(scale=sigma2_eta0**0.5, size=T)\n",
                "mu = np.cumsum(eta)\n",
                "y = mu + eps"
            ]
        },
        {
            "cell_type": "markdown",
            "metadata": {},
            "source": [
                "Next, we create all the tensors required to describe our model:"
            ]
        },
        {
            "cell_type": "code",
            "execution_count": 3,
            "metadata": {},
            "outputs": [],
            "source": [
                "# Upon using pymc3, the following theano configuration flag is changed,\n",
                "# leading to tensors being required to have test values\n",
                "#theano.config.compute_test_value = 'ignore'\n",
                "\n",
                "# Position and uncertainty of the observation\n",
                "ai = tt.dvector(name='ai')\n",
                "Pi = tt.dmatrix(name='Pi')\n",
                "\n",
                "# Tensors for the measurement equation\n",
                "Z = tt.dmatrix(name='Z')\n",
                "d = tt.dvector(name='d')\n",
                "H = tt.dmatrix(name='H')\n",
                "\n",
                "# Tensors for the transition equation\n",
                "T = tt.dmatrix(name='T')\n",
                "c = tt.dvector(name='c')\n",
                "R = tt.dmatrix(name='R')\n",
                "Q = tt.dmatrix(name='Q')"
            ]
        },
        {
            "cell_type": "markdown",
            "metadata": {},
            "source": [
                "We will also create some actual values for them:"
            ]
        },
        {
            "cell_type": "code",
            "execution_count": 4,
            "metadata": {},
            "outputs": [],
            "source": [
                "ɛ_σ2 = 3.\n",
                "η_σ2 = 10.\n",
                "\n",
                "args = dict(ai = np.array([0.]),\n",
                "            Pi = np.array([[1e6]]),\n",
                "            Z = np.array([[1.]]),\n",
                "            d = np.array([0.]),\n",
                "            H = np.array([[ɛ_σ2]]),\n",
                "            T = np.array([[1.]]),\n",
                "            c = np.array([0.]),\n",
                "            R = np.array([[1.]]),\n",
                "            Q = np.array([[η_σ2]]))"
            ]
        },
        {
            "cell_type": "markdown",
            "metadata": {},
            "source": [
                "Let's calculate the likelihood of the observed values, given the parameters above:"
            ]
        },
        {
            "cell_type": "code",
            "execution_count": 5,
            "metadata": {},
            "outputs": [
                {
                    "data": {
                        "text/plain": [
                            "-1369.7346722999789"
                        ]
                    },
                    "execution_count": 5,
                    "metadata": {},
                    "output_type": "execute_result"
                }
            ],
            "source": [
                "argst = (y[:,None], ai, Pi, Z, d, H, T, c, R, Q)\n",
                "(at, Pt, lliks), updates = kalman.KalmanFilter.filter(*argst)\n",
                "\n",
                "f = theano.function([ai, Pi, Z, d, H, T, c, R, Q], lliks)\n",
                "\n",
                "llik = f(**args)\n",
                "llik[1:].sum()"
            ]
        },
        {
            "cell_type": "markdown",
            "metadata": {},
            "source": [
                "Time required for the log-likelihood calculation:"
            ]
        },
        {
            "cell_type": "code",
            "execution_count": 6,
            "metadata": {},
            "outputs": [
                {
                    "name": "stdout",
                    "output_type": "stream",
                    "text": [
                        "Measuring time...\n",
                        "10.4 ms ± 42.9 µs per loop (mean ± std. dev. of 7 runs, 100 loops each)\n"
                    ]
                }
            ],
            "source": [
                "print('Measuring time...')\n",
                "%timeit f(**args)"
            ]
        },
        {
            "cell_type": "markdown",
            "metadata": {},
            "source": [
                "Profiling a non-scan operation is relatively simple. As an example, let's create a function to calculate the first time step of the Kalman filter:"
            ]
        },
        {
            "cell_type": "code",
            "execution_count": 7,
            "metadata": {},
            "outputs": [
                {
                    "name": "stderr",
                    "output_type": "stream",
                    "text": [
                        "Class\n",
                        "---\n",
                        "<% time> <sum %> <apply time> <time per call> <type> <#call> <#apply> <Class name>\n",
                        "  28.9%    28.9%       0.000s       3.52e-06s     C        4       4   theano.tensor.blas.Dot22\n",
                        "  28.9%    57.8%       0.000s       3.52e-06s     C        4       4   theano.tensor.blas_c.CGemv\n",
                        "  10.8%    68.6%       0.000s       1.05e-06s     C        5       5   theano.tensor.elemwise.DimShuffle\n",
                        "  10.3%    78.9%       0.000s       2.50e-06s     C        2       2   theano.tensor.blas.Gemm\n",
                        "   8.8%    87.7%       0.000s       1.43e-06s     C        3       3   theano.tensor.elemwise.Elemwise\n",
                        "   6.4%    94.1%       0.000s       1.55e-06s     C        2       2   theano.tensor.basic.AllocEmpty\n",
                        "   3.9%    98.0%       0.000s       1.91e-06s     C        1       1   theano.tensor.subtensor.Subtensor\n",
                        "   2.0%   100.0%       0.000s       4.77e-07s     C        2       2   theano.compile.ops.Shape_i\n",
                        "   ... (remaining 0 Classes account for   0.00%(0.00s) of the runtime)\n",
                        "\n",
                        "Ops\n",
                        "---\n",
                        "<% time> <sum %> <apply time> <time per call> <type> <#call> <#apply> <Op name>\n",
                        "  28.9%    28.9%       0.000s       3.52e-06s     C        4        4   Dot22\n",
                        "  23.0%    52.0%       0.000s       5.60e-06s     C        2        2   CGemv{no_inplace}\n",
                        "   8.3%    60.3%       0.000s       1.35e-06s     C        3        3   InplaceDimShuffle{1,0}\n",
                        "   6.4%    66.7%       0.000s       1.55e-06s     C        2        2   AllocEmpty{dtype='float64'}\n",
                        "   5.9%    72.5%       0.000s       1.43e-06s     C        2        2   CGemv{inplace}\n",
                        "   5.9%    78.4%       0.000s       2.86e-06s     C        1        1   Gemm{no_inplace}\n",
                        "   4.4%    82.8%       0.000s       2.15e-06s     C        1        1   Gemm{inplace}\n",
                        "   4.4%    87.3%       0.000s       2.15e-06s     C        1        1   Elemwise{Composite{(i0 * ((i1 * i2) + log(i3) + i4))}}[(0, 3)]\n",
                        "   3.9%    91.2%       0.000s       1.91e-06s     C        1        1   Subtensor{int64, int64}\n",
                        "   2.5%    93.6%       0.000s       1.19e-06s     C        1        1   Elemwise{inv,no_inplace}\n",
                        "   2.5%    96.1%       0.000s       1.19e-06s     C        1        1   InplaceDimShuffle{x,0}\n",
                        "   2.0%    98.0%       0.000s       4.77e-07s     C        2        2   Shape_i{0}\n",
                        "   2.0%   100.0%       0.000s       9.54e-07s     C        1        1   Elemwise{Composite{((-i0) + i1)}}[(0, 1)]\n",
                        "   0.0%   100.0%       0.000s       0.00e+00s     C        1        1   InplaceDimShuffle{}\n",
                        "   ... (remaining 0 Ops account for   0.00%(0.00s) of the runtime)\n",
                        "\n",
                        "Apply\n",
                        "------\n",
                        "<% time> <sum %> <apply time> <time per call> <#call> <id> <Apply name>\n",
                        "  22.5%    22.5%       0.000s       1.10e-05s      1     5   Dot22(T, Pi)\n",
                        "  16.7%    39.2%       0.000s       8.11e-06s      1     6   CGemv{no_inplace}(c, TensorConstant{1.0}, T, ai, TensorConstant{1.0})\n",
                        "   6.4%    45.6%       0.000s       3.10e-06s      1    11   CGemv{no_inplace}(Y0, TensorConstant{-1.0}, Z, CGemv{no_inplace}.0, TensorConstant{1.0})\n",
                        "   5.9%    51.5%       0.000s       2.86e-06s      1    15   Gemm{no_inplace}(H, TensorConstant{1.0}, Dot22.0, Z.T, TensorConstant{1.0})\n",
                        "   4.4%    55.9%       0.000s       2.15e-06s      1    22   Elemwise{Composite{(i0 * ((i1 * i2) + log(i3) + i4))}}[(0, 3)](TensorConstant{-0.5}, TensorConstant{1.8378770664093453}, Shape_i{0}.0, Subtensor{int64, int64}.0, InplaceDimShuffle{}.0)\n",
                        "   4.4%    60.3%       0.000s       2.15e-06s      1    12   Gemm{inplace}(Dot22.0, TensorConstant{1.0}, Dot22.0, R.T, TensorConstant{1.0})\n",
                        "   4.4%    64.7%       0.000s       2.15e-06s      1     8   AllocEmpty{dtype='float64'}(TensorConstant{1})\n",
                        "   3.9%    68.6%       0.000s       1.91e-06s      1    18   CGemv{inplace}(AllocEmpty{dtype='float64'}.0, TensorConstant{1.0}, Elemwise{inv,no_inplace}.0, Elemwise{Composite{((-i0) + i1)}}[(0, 1)].0, TensorConstant{0.0})\n",
                        "   3.9%    72.5%       0.000s       1.91e-06s      1    17   Subtensor{int64, int64}(Gemm{no_inplace}.0, Constant{0}, Constant{0})\n",
                        "   3.9%    76.5%       0.000s       1.91e-06s      1     4   InplaceDimShuffle{1,0}(T)\n",
                        "   2.5%    78.9%       0.000s       1.19e-06s      1    19   InplaceDimShuffle{x,0}(CGemv{inplace}.0)\n",
                        "   2.5%    81.4%       0.000s       1.19e-06s      1    16   Elemwise{inv,no_inplace}(Gemm{no_inplace}.0)\n",
                        "   2.5%    83.8%       0.000s       1.19e-06s      1    10   Dot22(Dot22.0, T.T)\n",
                        "   2.5%    86.3%       0.000s       1.19e-06s      1     0   InplaceDimShuffle{1,0}(Z)\n",
                        "   2.0%    88.2%       0.000s       9.54e-07s      1    20   CGemv{inplace}(AllocEmpty{dtype='float64'}.0, TensorConstant{1.0}, InplaceDimShuffle{x,0}.0, Elemwise{Composite{((-i0) + i1)}}[(0, 1)].0, TensorConstant{0.0})\n",
                        "   2.0%    90.2%       0.000s       9.54e-07s      1    14   Dot22(Z, Gemm{inplace}.0)\n",
                        "   2.0%    92.2%       0.000s       9.54e-07s      1    13   Elemwise{Composite{((-i0) + i1)}}[(0, 1)](d, CGemv{no_inplace}.0)\n",
                        "   2.0%    94.1%       0.000s       9.54e-07s      1     9   AllocEmpty{dtype='float64'}(Shape_i{0}.0)\n",
                        "   2.0%    96.1%       0.000s       9.54e-07s      1     7   Shape_i{0}(Y0)\n",
                        "   2.0%    98.0%       0.000s       9.54e-07s      1     3   Dot22(R, Q)\n",
                        "   ... (remaining 3 Apply instances account for 1.96%(0.00s) of the runtime)\n",
                        "\n",
                        "Here are tips to potentially make your code run faster\n",
                        "                 (if you think of new ones, suggest them on the mailing list).\n",
                        "                 Test them first, as they are not guaranteed to always provide a speedup.\n",
                        "  - Try the Theano flag floatX=float32\n",
                        "  - Try installing amdlibm and set the Theano flag lib.amdlibm=True. This speeds up only some Elemwise operation.\n"
                    ]
                }
            ],
            "source": [
                "Y0 = tt.dvector(name='Y0')\n",
                "_,_,llik = kalman.KalmanFilter.oneStep(Y0, ai, Pi, Z, d, H, T, c, R, Q)\n",
                "\n",
                "profiler = theano.compile.ScanProfileStats()\n",
                "f = theano.function([Y0, ai, Pi, Z, d, H, T, c, R, Q], llik, profile=profiler)\n",
                "\n",
                "f(y[0,None], **args);\n",
                "\n",
                "profiler.summary()"
            ]
        },
        {
            "cell_type": "markdown",
            "metadata": {},
            "source": [
                "Repeating the procedure with a scan procedure, we can see that the code inside it is not profiled. It took me a while to make it work (not even stackoverflow helped!!!). In the end, this is how I made it work:"
            ]
        },
        {
            "cell_type": "code",
            "execution_count": 8,
            "metadata": {},
            "outputs": [
                {
                    "name": "stderr",
                    "output_type": "stream",
                    "text": [
                        "\n",
                        "Scan Op profiling\n",
                        "==================\n",
                        "  Message: None\n",
                        "  Time in 1 calls of the op (for a total of 500 steps) 1.379228e-02s\n",
                        "\n",
                        "  Total time spent in calling the VM 1.050663e-02s (76.178%)\n",
                        "  Total overhead (computing slices..) 3.285646e-03s (23.822%)\n",
                        "\n",
                        "Class\n",
                        "---\n",
                        "<% time> <sum %> <apply time> <time per call> <type> <#call> <#apply> <Class name>\n",
                        "  33.3%    33.3%       0.002s       9.70e-07s     C     2500       5   theano.tensor.blas_c.CGemv\n",
                        "  26.4%    59.7%       0.002s       6.41e-07s     C     3000       6   theano.tensor.blas.Dot22\n",
                        "  11.4%    71.1%       0.001s       4.13e-07s     C     2000       4   theano.tensor.elemwise.Elemwise\n",
                        "  10.6%    81.7%       0.001s       7.74e-07s     C     1000       2   theano.tensor.blas.Gemm\n",
                        "   7.7%    89.4%       0.001s       5.57e-07s     C     1000       2   theano.tensor.elemwise.DimShuffle\n",
                        "   7.2%    96.6%       0.001s       1.05e-06s     C      500       1   theano.tensor.subtensor.Subtensor\n",
                        "   2.5%    99.2%       0.000s       1.82e-07s     C     1000       2   theano.tensor.basic.AllocEmpty\n",
                        "   0.8%   100.0%       0.000s       1.24e-07s     C      500       1   theano.compile.ops.Shape_i\n",
                        "   ... (remaining 0 Classes account for   0.00%(0.00s) of the runtime)\n",
                        "\n",
                        "Ops\n",
                        "---\n",
                        "<% time> <sum %> <apply time> <time per call> <type> <#call> <#apply> <Op name>\n",
                        "  26.4%    26.4%       0.002s       6.41e-07s     C     3000        6   Dot22\n",
                        "  25.6%    52.0%       0.002s       1.24e-06s     C     1500        3   CGemv{no_inplace}\n",
                        "  10.6%    62.6%       0.001s       7.74e-07s     C     1000        2   Gemm{no_inplace}\n",
                        "   7.8%    70.4%       0.001s       5.66e-07s     C     1000        2   CGemv{inplace}\n",
                        "   7.2%    77.6%       0.001s       1.05e-06s     C      500        1   Subtensor{int64, int64}\n",
                        "   4.3%    81.9%       0.000s       6.20e-07s     C      500        1   InplaceDimShuffle{x,0}\n",
                        "   4.0%    85.9%       0.000s       5.87e-07s     C      500        1   Elemwise{sub,no_inplace}\n",
                        "   3.8%    89.7%       0.000s       5.53e-07s     C      500        1   Elemwise{Composite{(i0 * (i1 + log(i2) + i3))}}\n",
                        "   3.4%    93.1%       0.000s       4.94e-07s     C      500        1   InplaceDimShuffle{}\n",
                        "   2.5%    95.6%       0.000s       1.82e-07s     C     1000        2   AllocEmpty{dtype='float64'}\n",
                        "   2.0%    97.6%       0.000s       2.92e-07s     C      500        1   Elemwise{inv,no_inplace}\n",
                        "   1.5%    99.2%       0.000s       2.21e-07s     C      500        1   Elemwise{Add}[(0, 1)]\n",
                        "   0.8%   100.0%       0.000s       1.24e-07s     C      500        1   Shape_i{0}\n",
                        "   ... (remaining 0 Ops account for   0.00%(0.00s) of the runtime)\n",
                        "\n",
                        "Apply\n",
                        "------\n",
                        "<% time> <sum %> <apply time> <time per call> <#call> <id> <Apply name>\n",
                        "  10.5%    10.5%       0.001s       1.53e-06s    500     0   CGemv{no_inplace}(c_copy, TensorConstant{1.0}, T_copy, ai[t-1], TensorConstant{1.0})\n",
                        "   8.1%    18.6%       0.001s       1.18e-06s    500     2   Dot22(T_copy, Pi[t-1])\n",
                        "   7.7%    26.3%       0.001s       1.12e-06s    500    17   CGemv{no_inplace}(CGemv{no_inplace}.0, TensorConstant{1.0}, Dot22.0, Elemwise{Add}[(0, 1)].0, TensorConstant{1.0})\n",
                        "   7.4%    33.7%       0.001s       1.07e-06s    500     4   CGemv{no_inplace}(d_copy, TensorConstant{-1.0}, Z_copy, CGemv{no_inplace}.0, TensorConstant{-1.0})\n",
                        "   7.2%    40.9%       0.001s       1.05e-06s    500    12   Subtensor{int64, int64}(Gemm{no_inplace}.0, Constant{0}, Constant{0})\n",
                        "   6.5%    47.4%       0.000s       9.44e-07s    500     6   Gemm{no_inplace}(<TensorType(float64, matrix)>, TensorConstant{1.0}, Dot22.0, T.T_replace, TensorConstant{1.0})\n",
                        "   5.2%    52.6%       0.000s       7.51e-07s    500    16   Dot22(Dot22.0, Z_copy)\n",
                        "   5.1%    57.6%       0.000s       7.35e-07s    500    13   CGemv{inplace}(AllocEmpty{dtype='float64'}.0, TensorConstant{1.0}, Elemwise{inv,no_inplace}.0, Elemwise{Add}[(0, 1)].0, TensorConstant{0.0})\n",
                        "   4.3%    61.9%       0.000s       6.20e-07s    500    15   InplaceDimShuffle{x,0}(CGemv{inplace}.0)\n",
                        "   4.2%    66.0%       0.000s       6.05e-07s    500    10   Gemm{no_inplace}(H_copy, TensorConstant{1.0}, Dot22.0, Z.T_replace, TensorConstant{1.0})\n",
                        "   4.2%    70.2%       0.000s       6.04e-07s    500    14   Dot22(Dot22.0, Elemwise{inv,no_inplace}.0)\n",
                        "   4.0%    74.2%       0.000s       5.87e-07s    500    21   Elemwise{sub,no_inplace}(Gemm{no_inplace}.0, Dot22.0)\n",
                        "   3.8%    78.0%       0.000s       5.53e-07s    500    22   Elemwise{Composite{(i0 * (i1 + log(i2) + i3))}}(TensorConstant{-0.5}, TensorConstant{1.8378770664093453}, Subtensor{int64, int64}.0, InplaceDimShuffle{}.0)\n",
                        "   3.5%    81.5%       0.000s       5.07e-07s    500     9   Dot22(Gemm{no_inplace}.0, Z.T_replace)\n",
                        "   3.4%    84.9%       0.000s       4.94e-07s    500    20   InplaceDimShuffle{}(CGemv{inplace}.0)\n",
                        "   2.8%    87.7%       0.000s       4.04e-07s    500     8   Dot22(Z_copy, Gemm{no_inplace}.0)\n",
                        "   2.7%    90.4%       0.000s       3.96e-07s    500    18   CGemv{inplace}(AllocEmpty{dtype='float64'}.0, TensorConstant{1.0}, InplaceDimShuffle{x,0}.0, Elemwise{Add}[(0, 1)].0, TensorConstant{0.0})\n",
                        "   2.7%    93.1%       0.000s       3.93e-07s    500    19   Dot22(Dot22.0, Gemm{no_inplace}.0)\n",
                        "   2.0%    95.1%       0.000s       2.92e-07s    500    11   Elemwise{inv,no_inplace}(Gemm{no_inplace}.0)\n",
                        "   1.5%    96.6%       0.000s       2.21e-07s    500     7   Elemwise{Add}[(0, 1)](Y[t], CGemv{no_inplace}.0)\n",
                        "   ... (remaining 3 Apply instances account for 3.35%(0.00s) of the runtime)\n",
                        "\n",
                        "Here are tips to potentially make your code run faster\n",
                        "                 (if you think of new ones, suggest them on the mailing list).\n",
                        "                 Test them first, as they are not guaranteed to always provide a speedup.\n",
                        "  - Try the Theano flag floatX=float32\n",
                        "  - Try installing amdlibm and set the Theano flag lib.amdlibm=True. This speeds up only some Elemwise operation.\n"
                    ]
                }
            ],
            "source": [
                "Y0 = y[:,None]\n",
                "profiler = theano.compile.ScanProfileStats()\n",
                "(_,_,llik),_ = kalman.KalmanFilter.filter(Y0, ai, Pi, Z, d, H, T, c, R, Q, profile=profiler)\n",
                "\n",
                "f = theano.function([ai, Pi, Z, d, H, T, c, R, Q], llik, profile=profiler)\n",
                "\n",
                "f(**args);\n",
                "\n",
                "# Select the node corresponding to the scan operation\n",
                "scan_op = next(k for k in profiler.op_nodes()\n",
                "                     if isinstance(k, theano.scan_module.scan_op.Scan))\n",
                "scan_op.profile.summary()"
            ]
        }
    ],
    "metadata": {
        "kernelspec": {
            "display_name": "Python 3",
            "language": "python",
            "name": "python3"
        },
        "language_info": {
            "codemirror_mode": {
                "name": "ipython",
                "version": 3
            },
            "file_extension": ".py",
            "mimetype": "text/x-python",
            "name": "python",
            "nbconvert_exporter": "python",
            "pygments_lexer": "ipython3",
            "version": "3.6.2"
        }
    },
    "nbformat": 4,
    "nbformat_minor": 2
}